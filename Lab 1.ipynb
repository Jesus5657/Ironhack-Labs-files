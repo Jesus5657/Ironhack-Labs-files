{
 "cells": [
  {
   "cell_type": "code",
   "execution_count": 1,
   "id": "96db3b2f-1de8-42b8-a9b5-ce76ce06d070",
   "metadata": {},
   "outputs": [],
   "source": [
    "words = ['play', 'filling', 'bar', 'theatre', 'easygoing', 'date', 'lead', 'that', 'story',  'island']"
   ]
  },
  {
   "cell_type": "code",
   "execution_count": null,
   "id": "55a841c7-2719-4ff1-8ddf-6f4c310c15d8",
   "metadata": {},
   "outputs": [],
   "source": [
    "#Print every word in upper case"
   ]
  },
  {
   "cell_type": "code",
   "execution_count": 11,
   "id": "097a9d74-beeb-4bcf-a7e8-f4cdd1fc490b",
   "metadata": {},
   "outputs": [
    {
     "name": "stdout",
     "output_type": "stream",
     "text": [
      "PLAY\n",
      "FILLING\n",
      "BAR\n",
      "THEATRE\n",
      "EASYGOING\n",
      "DATE\n",
      "LEAD\n",
      "THAT\n",
      "STORY\n",
      "ISLAND\n"
     ]
    }
   ],
   "source": [
    "for word in words:\n",
    "    print(word.upper())"
   ]
  },
  {
   "cell_type": "code",
   "execution_count": null,
   "id": "170aefaf-a761-43d2-8c98-5cb1e84f7bb8",
   "metadata": {},
   "outputs": [],
   "source": [
    "#Create a new list containing only words with 5 or more letters"
   ]
  },
  {
   "cell_type": "code",
   "execution_count": 17,
   "id": "e99c5a1f-b79f-421b-b279-d6e2c57cb32c",
   "metadata": {},
   "outputs": [
    {
     "name": "stdout",
     "output_type": "stream",
     "text": [
      "['filling', 'theatre', 'easygoing', 'story', 'island']\n"
     ]
    }
   ],
   "source": [
    "long_words = [word for word in words if len(word) >= 5]\n",
    "\n",
    "print(long_words)"
   ]
  },
  {
   "cell_type": "code",
   "execution_count": null,
   "id": "1738e71c-216b-47b6-8f99-1edbf48561e9",
   "metadata": {},
   "outputs": [],
   "source": [
    "#Print the first word starting with \"t\""
   ]
  },
  {
   "cell_type": "code",
   "execution_count": 39,
   "id": "c79e730a-41e1-4195-803b-a4685fd6c958",
   "metadata": {},
   "outputs": [
    {
     "name": "stdout",
     "output_type": "stream",
     "text": [
      "theatre\n"
     ]
    }
   ],
   "source": [
    "for word in words:\n",
    "    if word.startswith('t'):\n",
    "        print(word)\n",
    "        break"
   ]
  },
  {
   "cell_type": "code",
   "execution_count": null,
   "id": "3079b18a-e1c8-4f14-91a0-939ec193d8ec",
   "metadata": {},
   "outputs": [],
   "source": [
    "#Numbers\n",
    "#Create a list containing the square of every number from 1 to 10"
   ]
  },
  {
   "cell_type": "code",
   "execution_count": 43,
   "id": "7044cc9d-ba38-402f-9e38-34fac33604b2",
   "metadata": {},
   "outputs": [
    {
     "name": "stdout",
     "output_type": "stream",
     "text": [
      "[1, 4, 9, 16, 25, 36, 49, 64, 81, 100]\n"
     ]
    }
   ],
   "source": [
    "square = [x**2 for x in range(1, 11)]\n",
    "print(square)"
   ]
  },
  {
   "cell_type": "code",
   "execution_count": null,
   "id": "f0a01390-4e0b-46ec-83e8-d28b19038df3",
   "metadata": {},
   "outputs": [],
   "source": [
    "#Print a list containing the square of every odd number from 1 to 10"
   ]
  },
  {
   "cell_type": "code",
   "execution_count": 45,
   "id": "60ebf2d3-c597-49b1-8e5b-69c34490c7f2",
   "metadata": {},
   "outputs": [
    {
     "name": "stdout",
     "output_type": "stream",
     "text": [
      "[1, 9, 25, 49, 81]\n"
     ]
    }
   ],
   "source": [
    "odd_squares = [x**2 for x in range(1, 11) if x % 2 != 0]\n",
    "\n",
    "print(odd_squares)"
   ]
  },
  {
   "cell_type": "code",
   "execution_count": null,
   "id": "dce05e15-9d8e-424b-a0e1-ec1f887a33bb",
   "metadata": {},
   "outputs": [],
   "source": [
    "#Create a list with the squares of all multiples of 8 below 1000"
   ]
  },
  {
   "cell_type": "code",
   "execution_count": 47,
   "id": "6869cdea-5fc0-4099-be1f-8b388c4f8bca",
   "metadata": {},
   "outputs": [
    {
     "name": "stdout",
     "output_type": "stream",
     "text": [
      "[64, 256, 576, 1024, 1600, 2304, 3136, 4096, 5184, 6400, 7744, 9216, 10816, 12544, 14400, 16384, 18496, 20736, 23104, 25600, 28224, 30976, 33856, 36864, 40000, 43264, 46656, 50176, 53824, 57600, 61504, 65536, 69696, 73984, 78400, 82944, 87616, 92416, 97344, 102400, 107584, 112896, 118336, 123904, 129600, 135424, 141376, 147456, 153664, 160000, 166464, 173056, 179776, 186624, 193600, 200704, 207936, 215296, 222784, 230400, 238144, 246016, 254016, 262144, 270400, 278784, 287296, 295936, 304704, 313600, 322624, 331776, 341056, 350464, 360000, 369664, 379456, 389376, 399424, 409600, 419904, 430336, 440896, 451584, 462400, 473344, 484416, 495616, 506944, 518400, 529984, 541696, 553536, 565504, 577600, 589824, 602176, 614656, 627264, 640000, 652864, 665856, 678976, 692224, 705600, 719104, 732736, 746496, 760384, 774400, 788544, 802816, 817216, 831744, 846400, 861184, 876096, 891136, 906304, 921600, 937024, 952576, 968256, 984064]\n"
     ]
    }
   ],
   "source": [
    "squares_of_multiples_of_8 = [x**2 for x in range(8, 1000, 8)]\n",
    "\n",
    "print(squares_of_multiples_of_8)"
   ]
  },
  {
   "cell_type": "code",
   "execution_count": 51,
   "id": "71a03e2a-c8e2-4cd4-97a3-8bfdfcafb745",
   "metadata": {},
   "outputs": [],
   "source": [
    "people = [\n",
    "    {\n",
    "        \"name\": \"Juan\",\n",
    "        \"age\": 34,\n",
    "        \"n_kids\": 2\n",
    "    },\n",
    "    {\n",
    "        \"name\": \"Pepe\",\n",
    "        \"age\": 27,\n",
    "        \"n_kids\": 0\n",
    "    },\n",
    "    {\n",
    "        \"name\": \"Sonia\",\n",
    "        \"age\": 41,\n",
    "        \"n_kids\": 1\n",
    "    },\n",
    "    {\n",
    "        \"name\": \"Lucía\",\n",
    "        \"age\": 22,\n",
    "        \"n_kids\": 2\n",
    "    },\n",
    "    {\n",
    "        \"name\": \"Leo\",\n",
    "        \"age\": 55,\n",
    "        \"n_kids\": 5\n",
    "    }\n",
    "]"
   ]
  },
  {
   "cell_type": "code",
   "execution_count": null,
   "id": "6b010b0c-ce43-4d7b-b62a-48cb512c6b62",
   "metadata": {},
   "outputs": [],
   "source": [
    "#How many people are there?"
   ]
  },
  {
   "cell_type": "code",
   "execution_count": 53,
   "id": "eb260f4a-a7ae-4a8a-acf7-cd7cb468d7d3",
   "metadata": {},
   "outputs": [
    {
     "name": "stdout",
     "output_type": "stream",
     "text": [
      "5\n"
     ]
    }
   ],
   "source": [
    "num_people = len(people)\n",
    "print(num_people)"
   ]
  },
  {
   "cell_type": "code",
   "execution_count": null,
   "id": "67ac3781-57ce-42ee-a88c-103e1deacbc3",
   "metadata": {},
   "outputs": [],
   "source": [
    "#How many people have kids?"
   ]
  },
  {
   "cell_type": "code",
   "execution_count": 55,
   "id": "b4313076-610f-4c78-b86f-bf2cfd3ced66",
   "metadata": {},
   "outputs": [
    {
     "name": "stdout",
     "output_type": "stream",
     "text": [
      "4\n"
     ]
    }
   ],
   "source": [
    "people_with_kids = sum(1 for person in people if person[\"n_kids\"] > 0)\n",
    "\n",
    "print(people_with_kids)"
   ]
  },
  {
   "cell_type": "code",
   "execution_count": null,
   "id": "543fdc90-3a4b-4235-bcf4-ca0a5292b015",
   "metadata": {},
   "outputs": [],
   "source": [
    "#How many kids do they have in total?"
   ]
  },
  {
   "cell_type": "code",
   "execution_count": 57,
   "id": "43fa134c-fe11-4c7c-a3be-e6abb443de66",
   "metadata": {},
   "outputs": [
    {
     "name": "stdout",
     "output_type": "stream",
     "text": [
      "10\n"
     ]
    }
   ],
   "source": [
    "total_kids = sum(person[\"n_kids\"] for person in people)\n",
    "\n",
    "print(total_kids)"
   ]
  },
  {
   "cell_type": "code",
   "execution_count": null,
   "id": "d340d250-4993-4236-b7e3-04a24da971c9",
   "metadata": {},
   "outputs": [],
   "source": [
    "#In a year's time, names ending with \"a\" will have an extra kid. Create a list of dictionaries with people's info in a year's time"
   ]
  },
  {
   "cell_type": "code",
   "execution_count": 59,
   "id": "18112871-d74d-4315-88d8-d74d16cea903",
   "metadata": {},
   "outputs": [
    {
     "name": "stdout",
     "output_type": "stream",
     "text": [
      "[{'name': 'Juan', 'age': 35, 'n_kids': 2}, {'name': 'Pepe', 'age': 28, 'n_kids': 0}, {'name': 'Sonia', 'age': 42, 'n_kids': 2}, {'name': 'Lucía', 'age': 23, 'n_kids': 3}, {'name': 'Leo', 'age': 56, 'n_kids': 5}]\n"
     ]
    }
   ],
   "source": [
    "people_in_a_year = [\n",
    "    {\n",
    "        \"name\": person[\"name\"],\n",
    "        \"age\": person[\"age\"] + 1,  # Increase age by 1 year\n",
    "        \"n_kids\": person[\"n_kids\"] + 1 if person[\"name\"].endswith(\"a\") else person[\"n_kids\"]\n",
    "    }\n",
    "    for person in people\n",
    "]\n",
    "\n",
    "# Print the updated list of people in a year's time\n",
    "print(people_in_a_year)"
   ]
  }
 ],
 "metadata": {
  "kernelspec": {
   "display_name": "Python 3 (ipykernel)",
   "language": "python",
   "name": "python3"
  },
  "language_info": {
   "codemirror_mode": {
    "name": "ipython",
    "version": 3
   },
   "file_extension": ".py",
   "mimetype": "text/x-python",
   "name": "python",
   "nbconvert_exporter": "python",
   "pygments_lexer": "ipython3",
   "version": "3.12.7"
  }
 },
 "nbformat": 4,
 "nbformat_minor": 5
}
